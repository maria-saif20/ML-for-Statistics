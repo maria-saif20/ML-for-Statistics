{
 "cells": [
  {
   "cell_type": "code",
   "execution_count": 2,
   "id": "54f52601",
   "metadata": {},
   "outputs": [],
   "source": [
    "import pandas as pd\n",
    "\n",
    "data = pd.read_csv(\"D:\\\\Atom bootcamp\\\\ML statis\\\\first assignment\\\\Car_sales.csv\")\n",
    "df = pd.DataFrame(data)"
   ]
  },
  {
   "cell_type": "code",
   "execution_count": 3,
   "id": "7da25587",
   "metadata": {},
   "outputs": [
    {
     "name": "stdout",
     "output_type": "stream",
     "text": [
      "Missing Values:\n",
      "Manufacturer            0\n",
      "Model                   0\n",
      "Sales_in_thousands      0\n",
      "__year_resale_value    36\n",
      "Vehicle_type            0\n",
      "Price_in_thousands      2\n",
      "Engine_size             1\n",
      "Horsepower              1\n",
      "Wheelbase               1\n",
      "Width                   1\n",
      "Length                  1\n",
      "Curb_weight             2\n",
      "Fuel_capacity           1\n",
      "Fuel_efficiency         3\n",
      "Latest_Launch           0\n",
      "Power_perf_factor       2\n",
      "dtype: int64\n"
     ]
    }
   ],
   "source": [
    "# Check for missing values\n",
    "missing_values = data.isnull().sum()\n",
    "print(\"Missing Values:\")\n",
    "print(missing_values)\n"
   ]
  },
  {
   "cell_type": "code",
   "execution_count": 6,
   "id": "1a3f87dd",
   "metadata": {},
   "outputs": [],
   "source": [
    "# Drop rows with any missing values\n",
    "data.dropna(inplace=True)"
   ]
  },
  {
   "cell_type": "code",
   "execution_count": 7,
   "id": "3c592e14",
   "metadata": {},
   "outputs": [
    {
     "name": "stdout",
     "output_type": "stream",
     "text": [
      "Number of Duplicates: 0\n"
     ]
    }
   ],
   "source": [
    "# Check for duplicates\n",
    "duplicates = data.duplicated().sum()\n",
    "print(\"Number of Duplicates:\", duplicates)"
   ]
  },
  {
   "cell_type": "code",
   "execution_count": 8,
   "id": "1f04716c",
   "metadata": {},
   "outputs": [],
   "source": [
    "# Drop duplicates\n",
    "data.drop_duplicates(inplace=True)\n"
   ]
  },
  {
   "cell_type": "code",
   "execution_count": 5,
   "id": "6563f493",
   "metadata": {},
   "outputs": [
    {
     "name": "stdout",
     "output_type": "stream",
     "text": [
      "Summary Statistics:\n",
      "       Sales_in_thousands  __year_resale_value  Price_in_thousands  \\\n",
      "count          117.000000           117.000000          117.000000   \n",
      "mean            59.112316            18.031538           25.969487   \n",
      "std             75.058933            11.605632           14.149699   \n",
      "min              0.110000             5.160000            9.235000   \n",
      "25%             16.767000            11.240000           16.980000   \n",
      "50%             32.299000            14.010000           21.665000   \n",
      "75%             76.029000            19.875000           29.465000   \n",
      "max            540.561000            67.550000           82.600000   \n",
      "\n",
      "       Engine_size  Horsepower   Wheelbase       Width      Length  \\\n",
      "count   117.000000  117.000000  117.000000  117.000000  117.000000   \n",
      "mean      3.048718  181.282051  107.326496   71.189744  187.717949   \n",
      "std       1.055169   58.591786    8.050588    3.530151   13.849926   \n",
      "min       1.000000   55.000000   92.600000   62.600000  149.400000   \n",
      "25%       2.200000  140.000000  102.400000   68.500000  177.500000   \n",
      "50%       3.000000  175.000000  107.000000   70.400000  187.800000   \n",
      "75%       3.800000  210.000000  111.600000   73.600000  196.500000   \n",
      "max       8.000000  450.000000  138.700000   79.300000  224.500000   \n",
      "\n",
      "       Curb_weight  Fuel_capacity  Fuel_efficiency  Power_perf_factor  \n",
      "count   117.000000     117.000000       117.000000         117.000000  \n",
      "mean      3.324051      17.812821        24.119658          74.930921  \n",
      "std       0.597177       3.794609         4.404470          25.771796  \n",
      "min       1.895000      10.300000        15.000000          23.276272  \n",
      "25%       2.911000      15.300000        22.000000          55.297117  \n",
      "50%       3.340000      17.200000        24.000000          70.660942  \n",
      "75%       3.823000      19.800000        26.000000          85.828408  \n",
      "max       5.115000      32.000000        45.000000         188.144323  \n"
     ]
    }
   ],
   "source": [
    "# Summary statistics\n",
    "summary_stats = data.describe()\n",
    "print(\"Summary Statistics:\")\n",
    "print(summary_stats)"
   ]
  },
  {
   "cell_type": "code",
   "execution_count": 9,
   "id": "405c01e8",
   "metadata": {},
   "outputs": [
    {
     "data": {
      "text/html": [
       "<div>\n",
       "<style scoped>\n",
       "    .dataframe tbody tr th:only-of-type {\n",
       "        vertical-align: middle;\n",
       "    }\n",
       "\n",
       "    .dataframe tbody tr th {\n",
       "        vertical-align: top;\n",
       "    }\n",
       "\n",
       "    .dataframe thead th {\n",
       "        text-align: right;\n",
       "    }\n",
       "</style>\n",
       "<table border=\"1\" class=\"dataframe\">\n",
       "  <thead>\n",
       "    <tr style=\"text-align: right;\">\n",
       "      <th></th>\n",
       "      <th>Manufacturer</th>\n",
       "      <th>Model</th>\n",
       "      <th>Sales_in_thousands</th>\n",
       "      <th>__year_resale_value</th>\n",
       "      <th>Vehicle_type</th>\n",
       "      <th>Price_in_thousands</th>\n",
       "      <th>Engine_size</th>\n",
       "      <th>Horsepower</th>\n",
       "      <th>Wheelbase</th>\n",
       "      <th>Width</th>\n",
       "      <th>Length</th>\n",
       "      <th>Curb_weight</th>\n",
       "      <th>Fuel_capacity</th>\n",
       "      <th>Fuel_efficiency</th>\n",
       "      <th>Latest_Launch</th>\n",
       "      <th>Power_perf_factor</th>\n",
       "    </tr>\n",
       "  </thead>\n",
       "  <tbody>\n",
       "    <tr>\n",
       "      <th>0</th>\n",
       "      <td>Acura</td>\n",
       "      <td>Integra</td>\n",
       "      <td>16.919</td>\n",
       "      <td>16.360</td>\n",
       "      <td>Passenger</td>\n",
       "      <td>21.50</td>\n",
       "      <td>1.8</td>\n",
       "      <td>140.0</td>\n",
       "      <td>101.2</td>\n",
       "      <td>67.3</td>\n",
       "      <td>172.4</td>\n",
       "      <td>2.639</td>\n",
       "      <td>13.2</td>\n",
       "      <td>28.0</td>\n",
       "      <td>2/2/2012</td>\n",
       "      <td>58.280150</td>\n",
       "    </tr>\n",
       "    <tr>\n",
       "      <th>1</th>\n",
       "      <td>Acura</td>\n",
       "      <td>TL</td>\n",
       "      <td>39.384</td>\n",
       "      <td>19.875</td>\n",
       "      <td>Passenger</td>\n",
       "      <td>28.40</td>\n",
       "      <td>3.2</td>\n",
       "      <td>225.0</td>\n",
       "      <td>108.1</td>\n",
       "      <td>70.3</td>\n",
       "      <td>192.9</td>\n",
       "      <td>3.517</td>\n",
       "      <td>17.2</td>\n",
       "      <td>25.0</td>\n",
       "      <td>6/3/2011</td>\n",
       "      <td>91.370778</td>\n",
       "    </tr>\n",
       "    <tr>\n",
       "      <th>2</th>\n",
       "      <td>Acura</td>\n",
       "      <td>CL</td>\n",
       "      <td>14.114</td>\n",
       "      <td>18.225</td>\n",
       "      <td>Passenger</td>\n",
       "      <td>NaN</td>\n",
       "      <td>3.2</td>\n",
       "      <td>225.0</td>\n",
       "      <td>106.9</td>\n",
       "      <td>70.6</td>\n",
       "      <td>192.0</td>\n",
       "      <td>3.470</td>\n",
       "      <td>17.2</td>\n",
       "      <td>26.0</td>\n",
       "      <td>1/4/2012</td>\n",
       "      <td>NaN</td>\n",
       "    </tr>\n",
       "    <tr>\n",
       "      <th>3</th>\n",
       "      <td>Acura</td>\n",
       "      <td>RL</td>\n",
       "      <td>8.588</td>\n",
       "      <td>29.725</td>\n",
       "      <td>Passenger</td>\n",
       "      <td>42.00</td>\n",
       "      <td>3.5</td>\n",
       "      <td>210.0</td>\n",
       "      <td>114.6</td>\n",
       "      <td>71.4</td>\n",
       "      <td>196.6</td>\n",
       "      <td>3.850</td>\n",
       "      <td>18.0</td>\n",
       "      <td>22.0</td>\n",
       "      <td>3/10/2011</td>\n",
       "      <td>91.389779</td>\n",
       "    </tr>\n",
       "    <tr>\n",
       "      <th>4</th>\n",
       "      <td>Audi</td>\n",
       "      <td>A4</td>\n",
       "      <td>20.397</td>\n",
       "      <td>22.255</td>\n",
       "      <td>Passenger</td>\n",
       "      <td>23.99</td>\n",
       "      <td>1.8</td>\n",
       "      <td>150.0</td>\n",
       "      <td>102.6</td>\n",
       "      <td>68.2</td>\n",
       "      <td>178.0</td>\n",
       "      <td>2.998</td>\n",
       "      <td>16.4</td>\n",
       "      <td>27.0</td>\n",
       "      <td>10/8/2011</td>\n",
       "      <td>62.777639</td>\n",
       "    </tr>\n",
       "    <tr>\n",
       "      <th>...</th>\n",
       "      <td>...</td>\n",
       "      <td>...</td>\n",
       "      <td>...</td>\n",
       "      <td>...</td>\n",
       "      <td>...</td>\n",
       "      <td>...</td>\n",
       "      <td>...</td>\n",
       "      <td>...</td>\n",
       "      <td>...</td>\n",
       "      <td>...</td>\n",
       "      <td>...</td>\n",
       "      <td>...</td>\n",
       "      <td>...</td>\n",
       "      <td>...</td>\n",
       "      <td>...</td>\n",
       "      <td>...</td>\n",
       "    </tr>\n",
       "    <tr>\n",
       "      <th>152</th>\n",
       "      <td>Volvo</td>\n",
       "      <td>V40</td>\n",
       "      <td>3.545</td>\n",
       "      <td>NaN</td>\n",
       "      <td>Passenger</td>\n",
       "      <td>24.40</td>\n",
       "      <td>1.9</td>\n",
       "      <td>160.0</td>\n",
       "      <td>100.5</td>\n",
       "      <td>67.6</td>\n",
       "      <td>176.6</td>\n",
       "      <td>3.042</td>\n",
       "      <td>15.8</td>\n",
       "      <td>25.0</td>\n",
       "      <td>9/21/2011</td>\n",
       "      <td>66.498812</td>\n",
       "    </tr>\n",
       "    <tr>\n",
       "      <th>153</th>\n",
       "      <td>Volvo</td>\n",
       "      <td>S70</td>\n",
       "      <td>15.245</td>\n",
       "      <td>NaN</td>\n",
       "      <td>Passenger</td>\n",
       "      <td>27.50</td>\n",
       "      <td>2.4</td>\n",
       "      <td>168.0</td>\n",
       "      <td>104.9</td>\n",
       "      <td>69.3</td>\n",
       "      <td>185.9</td>\n",
       "      <td>3.208</td>\n",
       "      <td>17.9</td>\n",
       "      <td>25.0</td>\n",
       "      <td>11/24/2012</td>\n",
       "      <td>70.654495</td>\n",
       "    </tr>\n",
       "    <tr>\n",
       "      <th>154</th>\n",
       "      <td>Volvo</td>\n",
       "      <td>V70</td>\n",
       "      <td>17.531</td>\n",
       "      <td>NaN</td>\n",
       "      <td>Passenger</td>\n",
       "      <td>28.80</td>\n",
       "      <td>2.4</td>\n",
       "      <td>168.0</td>\n",
       "      <td>104.9</td>\n",
       "      <td>69.3</td>\n",
       "      <td>186.2</td>\n",
       "      <td>3.259</td>\n",
       "      <td>17.9</td>\n",
       "      <td>25.0</td>\n",
       "      <td>6/25/2011</td>\n",
       "      <td>71.155978</td>\n",
       "    </tr>\n",
       "    <tr>\n",
       "      <th>155</th>\n",
       "      <td>Volvo</td>\n",
       "      <td>C70</td>\n",
       "      <td>3.493</td>\n",
       "      <td>NaN</td>\n",
       "      <td>Passenger</td>\n",
       "      <td>45.50</td>\n",
       "      <td>2.3</td>\n",
       "      <td>236.0</td>\n",
       "      <td>104.9</td>\n",
       "      <td>71.5</td>\n",
       "      <td>185.7</td>\n",
       "      <td>3.601</td>\n",
       "      <td>18.5</td>\n",
       "      <td>23.0</td>\n",
       "      <td>4/26/2011</td>\n",
       "      <td>101.623357</td>\n",
       "    </tr>\n",
       "    <tr>\n",
       "      <th>156</th>\n",
       "      <td>Volvo</td>\n",
       "      <td>S80</td>\n",
       "      <td>18.969</td>\n",
       "      <td>NaN</td>\n",
       "      <td>Passenger</td>\n",
       "      <td>36.00</td>\n",
       "      <td>2.9</td>\n",
       "      <td>201.0</td>\n",
       "      <td>109.9</td>\n",
       "      <td>72.1</td>\n",
       "      <td>189.8</td>\n",
       "      <td>3.600</td>\n",
       "      <td>21.1</td>\n",
       "      <td>24.0</td>\n",
       "      <td>11/14/2011</td>\n",
       "      <td>85.735655</td>\n",
       "    </tr>\n",
       "  </tbody>\n",
       "</table>\n",
       "<p>157 rows × 16 columns</p>\n",
       "</div>"
      ],
      "text/plain": [
       "    Manufacturer    Model  Sales_in_thousands  __year_resale_value  \\\n",
       "0          Acura  Integra              16.919               16.360   \n",
       "1          Acura       TL              39.384               19.875   \n",
       "2          Acura       CL              14.114               18.225   \n",
       "3          Acura       RL               8.588               29.725   \n",
       "4           Audi       A4              20.397               22.255   \n",
       "..           ...      ...                 ...                  ...   \n",
       "152        Volvo      V40               3.545                  NaN   \n",
       "153        Volvo      S70              15.245                  NaN   \n",
       "154        Volvo      V70              17.531                  NaN   \n",
       "155        Volvo      C70               3.493                  NaN   \n",
       "156        Volvo      S80              18.969                  NaN   \n",
       "\n",
       "    Vehicle_type  Price_in_thousands  Engine_size  Horsepower  Wheelbase  \\\n",
       "0      Passenger               21.50          1.8       140.0      101.2   \n",
       "1      Passenger               28.40          3.2       225.0      108.1   \n",
       "2      Passenger                 NaN          3.2       225.0      106.9   \n",
       "3      Passenger               42.00          3.5       210.0      114.6   \n",
       "4      Passenger               23.99          1.8       150.0      102.6   \n",
       "..           ...                 ...          ...         ...        ...   \n",
       "152    Passenger               24.40          1.9       160.0      100.5   \n",
       "153    Passenger               27.50          2.4       168.0      104.9   \n",
       "154    Passenger               28.80          2.4       168.0      104.9   \n",
       "155    Passenger               45.50          2.3       236.0      104.9   \n",
       "156    Passenger               36.00          2.9       201.0      109.9   \n",
       "\n",
       "     Width  Length  Curb_weight  Fuel_capacity  Fuel_efficiency Latest_Launch  \\\n",
       "0     67.3   172.4        2.639           13.2             28.0      2/2/2012   \n",
       "1     70.3   192.9        3.517           17.2             25.0      6/3/2011   \n",
       "2     70.6   192.0        3.470           17.2             26.0      1/4/2012   \n",
       "3     71.4   196.6        3.850           18.0             22.0     3/10/2011   \n",
       "4     68.2   178.0        2.998           16.4             27.0     10/8/2011   \n",
       "..     ...     ...          ...            ...              ...           ...   \n",
       "152   67.6   176.6        3.042           15.8             25.0     9/21/2011   \n",
       "153   69.3   185.9        3.208           17.9             25.0    11/24/2012   \n",
       "154   69.3   186.2        3.259           17.9             25.0     6/25/2011   \n",
       "155   71.5   185.7        3.601           18.5             23.0     4/26/2011   \n",
       "156   72.1   189.8        3.600           21.1             24.0    11/14/2011   \n",
       "\n",
       "     Power_perf_factor  \n",
       "0            58.280150  \n",
       "1            91.370778  \n",
       "2                  NaN  \n",
       "3            91.389779  \n",
       "4            62.777639  \n",
       "..                 ...  \n",
       "152          66.498812  \n",
       "153          70.654495  \n",
       "154          71.155978  \n",
       "155         101.623357  \n",
       "156          85.735655  \n",
       "\n",
       "[157 rows x 16 columns]"
      ]
     },
     "execution_count": 9,
     "metadata": {},
     "output_type": "execute_result"
    }
   ],
   "source": [
    "df"
   ]
  },
  {
   "cell_type": "code",
   "execution_count": 10,
   "id": "3d86fb17",
   "metadata": {},
   "outputs": [
    {
     "name": "stdout",
     "output_type": "stream",
     "text": [
      "<class 'pandas.core.frame.DataFrame'>\n",
      "RangeIndex: 157 entries, 0 to 156\n",
      "Data columns (total 16 columns):\n",
      " #   Column               Non-Null Count  Dtype  \n",
      "---  ------               --------------  -----  \n",
      " 0   Manufacturer         157 non-null    object \n",
      " 1   Model                157 non-null    object \n",
      " 2   Sales_in_thousands   157 non-null    float64\n",
      " 3   __year_resale_value  121 non-null    float64\n",
      " 4   Vehicle_type         157 non-null    object \n",
      " 5   Price_in_thousands   155 non-null    float64\n",
      " 6   Engine_size          156 non-null    float64\n",
      " 7   Horsepower           156 non-null    float64\n",
      " 8   Wheelbase            156 non-null    float64\n",
      " 9   Width                156 non-null    float64\n",
      " 10  Length               156 non-null    float64\n",
      " 11  Curb_weight          155 non-null    float64\n",
      " 12  Fuel_capacity        156 non-null    float64\n",
      " 13  Fuel_efficiency      154 non-null    float64\n",
      " 14  Latest_Launch        157 non-null    object \n",
      " 15  Power_perf_factor    155 non-null    float64\n",
      "dtypes: float64(12), object(4)\n",
      "memory usage: 19.8+ KB\n"
     ]
    }
   ],
   "source": [
    "df.info()"
   ]
  },
  {
   "cell_type": "code",
   "execution_count": 11,
   "id": "96556d01",
   "metadata": {},
   "outputs": [
    {
     "name": "stdout",
     "output_type": "stream",
     "text": [
      "Numeric Variables:\n",
      "Index(['Sales_in_thousands', '__year_resale_value', 'Price_in_thousands',\n",
      "       'Engine_size', 'Horsepower', 'Wheelbase', 'Width', 'Length',\n",
      "       'Curb_weight', 'Fuel_capacity', 'Fuel_efficiency', 'Power_perf_factor'],\n",
      "      dtype='object')\n"
     ]
    }
   ],
   "source": [
    "import pandas as pd\n",
    "\n",
    "# Assuming 'data' is your DataFrame\n",
    "numeric_cols = data.select_dtypes(include=['int64', 'float64']).columns\n",
    "print(\"Numeric Variables:\")\n",
    "print(numeric_cols)\n"
   ]
  },
  {
   "cell_type": "code",
   "execution_count": null,
   "id": "eb67e7a7",
   "metadata": {},
   "outputs": [],
   "source": [
    "categorical_cols = data.select_dtypes(include=['object']).columns\n",
    "print(\"Categorical Variables:\")\n",
    "print(categorical_cols)\n"
   ]
  },
  {
   "cell_type": "code",
   "execution_count": 12,
   "id": "54975ac6",
   "metadata": {},
   "outputs": [
    {
     "name": "stdout",
     "output_type": "stream",
     "text": [
      "DateTime Variables:\n",
      "Index([], dtype='object')\n"
     ]
    }
   ],
   "source": [
    "datetime_cols = data.select_dtypes(include=['datetime64']).columns\n",
    "print(\"DateTime Variables:\")\n",
    "print(datetime_cols)\n"
   ]
  },
  {
   "cell_type": "code",
   "execution_count": 13,
   "id": "e7a78716",
   "metadata": {},
   "outputs": [
    {
     "name": "stdout",
     "output_type": "stream",
     "text": [
      "Data Types of Columns:\n",
      "Manufacturer            object\n",
      "Model                   object\n",
      "Sales_in_thousands     float64\n",
      "__year_resale_value    float64\n",
      "Vehicle_type            object\n",
      "Price_in_thousands     float64\n",
      "Engine_size            float64\n",
      "Horsepower             float64\n",
      "Wheelbase              float64\n",
      "Width                  float64\n",
      "Length                 float64\n",
      "Curb_weight            float64\n",
      "Fuel_capacity          float64\n",
      "Fuel_efficiency        float64\n",
      "Latest_Launch           object\n",
      "Power_perf_factor      float64\n",
      "dtype: object\n"
     ]
    }
   ],
   "source": [
    "data_types = df.dtypes\n",
    "print(\"Data Types of Columns:\")\n",
    "print(data_types)"
   ]
  },
  {
   "cell_type": "markdown",
   "id": "bd328e07",
   "metadata": {},
   "source": [
    "    \n",
    "        'Sales_in_thousands',\n",
    "       '__year_resale_value',\n",
    "       'Price_in_thousands',\n",
    "       'Engine_size',continuous\n",
    "       'Horsepower', continuous\n",
    "       'Wheelbase', \n",
    "       'Width', continuous\n",
    "       'Length',continuous\n",
    "       'Curb_weight',\n",
    "       'Fuel_capacity',continuous\n",
    "       'Fuel_efficiency',continuous\n",
    "       'Power_perf_factor'"
   ]
  },
  {
   "cell_type": "code",
   "execution_count": 14,
   "id": "a4376434",
   "metadata": {},
   "outputs": [
    {
     "data": {
      "text/plain": [
       "pandas.core.frame.DataFrame"
      ]
     },
     "execution_count": 14,
     "metadata": {},
     "output_type": "execute_result"
    }
   ],
   "source": [
    "type(df)"
   ]
  },
  {
   "cell_type": "code",
   "execution_count": 15,
   "id": "5d70fee6",
   "metadata": {},
   "outputs": [
    {
     "name": "stdout",
     "output_type": "stream",
     "text": [
      "object\n"
     ]
    }
   ],
   "source": [
    "print(df['Manufacturer'].dtype)"
   ]
  },
  {
   "cell_type": "code",
   "execution_count": 16,
   "id": "5749af12",
   "metadata": {},
   "outputs": [
    {
     "name": "stdout",
     "output_type": "stream",
     "text": [
      "<class 'pandas.core.frame.DataFrame'>\n",
      "object\n",
      "0    Acura\n",
      "1    Acura\n",
      "2    Acura\n",
      "3    Acura\n",
      "4     Audi\n",
      "Name: Manufacturer, dtype: object\n"
     ]
    }
   ],
   "source": [
    "import pandas as pd\n",
    "\n",
    "# Check the type of the 'df' variable\n",
    "print(type(df))\n",
    "\n",
    "# Check the data type of the 'Manufacturer' column\n",
    "print(df['Manufacturer'].dtype)\n",
    "\n",
    "# Print the first few values of the 'Manufacturer' column\n",
    "print(df['Manufacturer'].head())\n"
   ]
  },
  {
   "cell_type": "code",
   "execution_count": 23,
   "id": "83d34443",
   "metadata": {},
   "outputs": [
    {
     "data": {
      "image/png": "[encoded data removed]",
      "text/plain": [
       "<Figure size 640x480 with 1 Axes>"
      ]
     },
     "metadata": {},
     "output_type": "display_data"
    }
   ],
   "source": [
    "import pandas as pd\n",
    "import matplotlib.pyplot as plt\n",
    "\n",
    "# Assuming 'df' is your DataFrame and 'Manufacturer' is the column containing manufacturer types\n",
    "manufacturer_counts = df['Manufacturer'].value_counts()\n",
    "\n",
    "# Plotting the bar graph\n",
    "plt.figure() \n",
    "plt.bar(manufacturer_counts.index, manufacturer_counts, color='pink')  # Plotting the bar graph\n",
    "plt.title('Manufacturer Types')   # Set title for the plot\n",
    "plt.xlabel('Manufacturer')        # Label for x-axis\n",
    "plt.ylabel('Count')               # Label for y-axis\n",
    "plt.xticks(rotation=90)           # Rotate x-axis labels for better readability\n",
    "plt.tight_layout()                # Adjust layout to prevent clipping of labels\n",
    "plt.show()\n"
   ]
  },
  {
   "cell_type": "code",
   "execution_count": 20,
   "id": "9b44802d",
   "metadata": {},
   "outputs": [
    {
     "data": {
      "image/png": "[encoded data removed]",
      "text/plain": [
       "<Figure size 640x480 with 1 Axes>"
      ]
     },
     "metadata": {},
     "output_type": "display_data"
    }
   ],
   "source": [
    "vehicle_type_counts = df['Vehicle_type'].value_counts()\n",
    "plt.figure()\n",
    "plt.pie(vehicle_type_counts, labels=vehicle_type_counts.index, autopct='%1.1f%%', startangle=140)\n",
    "plt.title('Vehicle Types')\n",
    "plt.axis('equal')  # Equal aspect ratio ensures that pie is drawn as a circle.\n",
    "plt.show()"
   ]
  },
  {
   "cell_type": "code",
   "execution_count": 24,
   "id": "48a93ad3",
   "metadata": {},
   "outputs": [
    {
     "name": "stdout",
     "output_type": "stream",
     "text": [
      "The average price of all cars is: $27.39\n"
     ]
    }
   ],
   "source": [
    "average_price = df['Price_in_thousands'].mean()\n",
    "\n",
    "print(f\"The average price of all cars is: ${average_price:.2f}\")"
   ]
  },
  {
   "cell_type": "code",
   "execution_count": 25,
   "id": "ad2a65ae",
   "metadata": {},
   "outputs": [
    {
     "name": "stdout",
     "output_type": "stream",
     "text": [
      "Column: Sales_in_thousands\n",
      "Variance: 4628.00\n",
      "Standard Deviation: 68.03\n",
      "--------------------\n",
      "Column: __year_resale_value\n",
      "Variance: 131.18\n",
      "Standard Deviation: 11.45\n",
      "--------------------\n",
      "Column: Price_in_thousands\n",
      "Variance: 205.97\n",
      "Standard Deviation: 14.35\n",
      "--------------------\n",
      "Column: Engine_size\n",
      "Variance: 1.09\n",
      "Standard Deviation: 1.04\n",
      "--------------------\n",
      "Column: Horsepower\n",
      "Variance: 3214.93\n",
      "Standard Deviation: 56.70\n",
      "--------------------\n"
     ]
    }
   ],
   "source": [
    "# •\tCalculate the variance and standard deviation for numerical columns such as Sales_in_thousands, __year_resale_value, Price_in_thousands, Engine_size, Horsepower\n",
    "\n",
    "# Assuming 'df' is your DataFrame containing the relevant numerical columns\n",
    "numerical_columns = ['Sales_in_thousands', '__year_resale_value', 'Price_in_thousands', 'Engine_size', 'Horsepower']\n",
    "\n",
    "for column in numerical_columns:\n",
    "    column_variance = df[column].var()\n",
    "    column_std_dev = df[column].std()\n",
    "    print(f\"Column: {column}\")\n",
    "    print(f\"Variance: {column_variance:.2f}\")\n",
    "    print(f\"Standard Deviation: {column_std_dev:.2f}\")\n",
    "    print(\"--------------------\")"
   ]
  },
  {
   "cell_type": "code",
   "execution_count": 31,
   "id": "1f0dbdce",
   "metadata": {},
   "outputs": [
    {
     "name": "stdout",
     "output_type": "stream",
     "text": [
      "Column: Sales_in_thousands\n",
      "IQR: 53.84\n",
      "Identified outliers:\n",
      "    Manufacturer           Model  Sales_in_thousands  __year_resale_value  \\\n",
      "40         Dodge      Ram Pickup             227.061               15.060   \n",
      "45         Dodge         Caravan             181.749               12.025   \n",
      "49          Ford          Taurus             245.815               10.055   \n",
      "50          Ford           Focus             175.670                  NaN   \n",
      "52          Ford        Explorer             276.747               16.640   \n",
      "53          Ford        Windstar             155.787               13.175   \n",
      "55          Ford          Ranger             220.650                7.850   \n",
      "56          Ford        F-Series             540.561               15.075   \n",
      "57         Honda           Civic             199.685                9.850   \n",
      "58         Honda          Accord             230.902               13.210   \n",
      "69          Jeep  Grand Cherokee             157.040               18.810   \n",
      "137       Toyota           Camry             247.994               13.245   \n",
      "\n",
      "    Vehicle_type  Price_in_thousands  Engine_size  Horsepower  Wheelbase  \\\n",
      "40           Car              19.460          5.2       230.0      138.7   \n",
      "45           Car              19.565          2.4       150.0      113.3   \n",
      "49     Passenger              17.885          3.0       155.0      108.5   \n",
      "50     Passenger              12.315          2.0       107.0      103.0   \n",
      "52           Car              31.930          4.0       210.0      111.6   \n",
      "53           Car              21.410          3.0       150.0      120.7   \n",
      "55           Car              12.050          2.5       119.0      117.5   \n",
      "56           Car              26.935          4.6       220.0      138.5   \n",
      "57     Passenger              12.885          1.6       106.0      103.2   \n",
      "58     Passenger              15.350          2.3       135.0      106.9   \n",
      "69           Car              26.895          4.0       195.0      105.9   \n",
      "137    Passenger              17.518          2.2       133.0      105.2   \n",
      "\n",
      "     Width  Length  Curb_weight  Fuel_capacity  Fuel_efficiency Latest_Launch  \\\n",
      "40    79.3   224.2        4.470           26.0             17.0      3/6/2012   \n",
      "45    76.8   186.3        3.533           20.0             24.0      9/1/2011   \n",
      "49    73.0   197.6        3.368           16.0             24.0    12/20/2011   \n",
      "50    66.9   174.8        2.564           13.2             30.0     7/22/2012   \n",
      "52    70.2   190.7        3.876           21.0             19.0     4/25/2012   \n",
      "53    76.6   200.9        3.761           26.0             21.0     2/25/2012   \n",
      "55    69.4   200.7        3.086           20.0             23.0     1/14/2012   \n",
      "56    79.1   224.5        4.241           25.1             18.0     8/16/2012   \n",
      "57    67.1   175.1        2.339           11.9             32.0    10/21/2011   \n",
      "58    70.3   188.8        2.932           17.1             27.0     5/20/2012   \n",
      "69    72.3   181.5        3.880           20.5             19.0    12/10/2011   \n",
      "137   70.1   188.5        2.998           18.5             27.0     2/10/2011   \n",
      "\n",
      "     Power_perf_factor  \n",
      "40           90.211700  \n",
      "45           61.227000  \n",
      "49           62.503740  \n",
      "50           43.117132  \n",
      "52           87.635496  \n",
      "53           62.095048  \n",
      "55           47.389531  \n",
      "56           89.401935  \n",
      "57           42.879097  \n",
      "58           54.269548  \n",
      "69           80.387779  \n",
      "137          54.372420  \n",
      "--------------------\n",
      "Column: __year_resale_value\n",
      "IQR: 8.62\n",
      "Identified outliers:\n",
      "    Manufacturer           Model  Sales_in_thousands  __year_resale_value  \\\n",
      "6           Audi              A8               1.380               39.000   \n",
      "9            BMW            528i              17.527               36.125   \n",
      "24     Chevrolet        Corvette              17.947               36.225   \n",
      "39         Dodge           Viper               0.916               58.470   \n",
      "73         Lexus           LS400               6.375               40.375   \n",
      "93    Mercedes-B         E-Class              27.602               41.450   \n",
      "94    Mercedes-B         S-Class              16.774               50.375   \n",
      "95    Mercedes-B        SL-Class               3.311               58.600   \n",
      "124      Porsche          Boxter               8.982               41.250   \n",
      "125      Porsche   Carrera Coupe               1.280               60.625   \n",
      "126      Porsche  Carrera Cabrio               1.866               67.550   \n",
      "144       Toyota    Land Cruiser               9.835               34.080   \n",
      "\n",
      "    Vehicle_type  Price_in_thousands  Engine_size  Horsepower  Wheelbase  \\\n",
      "6      Passenger              62.000          4.2       310.0      113.0   \n",
      "9      Passenger              38.900          2.8       193.0      111.4   \n",
      "24     Passenger              45.705          5.7       345.0      104.5   \n",
      "39     Passenger              69.725          8.0       450.0       96.2   \n",
      "73     Passenger              54.005          4.0       290.0      112.2   \n",
      "93     Passenger              49.900          3.2       221.0      111.5   \n",
      "94     Passenger              69.700          4.3       275.0      121.5   \n",
      "95     Passenger              82.600          5.0       302.0       99.0   \n",
      "124    Passenger              41.430          2.7       217.0       95.2   \n",
      "125    Passenger              71.020          3.4       300.0       92.6   \n",
      "126    Passenger              74.970          3.4       300.0       92.6   \n",
      "144          Car              51.728          4.7       230.0      112.2   \n",
      "\n",
      "     Width  Length  Curb_weight  Fuel_capacity  Fuel_efficiency Latest_Launch  \\\n",
      "6     74.0   198.2        3.902           23.7             21.0     2/27/2012   \n",
      "9     70.9   188.0        3.472           18.5             25.0      4/4/2011   \n",
      "24    73.6   179.7        3.210           19.1             22.0     5/12/2012   \n",
      "39    75.7   176.7        3.375           19.0             16.0      8/7/2011   \n",
      "73    72.0   196.7        3.890           22.5             22.0     3/29/2012   \n",
      "93    70.8   189.4        3.823           21.1             25.0     7/12/2011   \n",
      "94    73.1   203.1        4.133           23.2             21.0     6/13/2011   \n",
      "95    71.3   177.1        4.125           21.1             20.0     3/17/2011   \n",
      "124   70.1   171.0        2.778           17.0             22.0     2/19/2012   \n",
      "125   69.5   174.5        3.032           17.0             21.0    12/21/2012   \n",
      "126   69.5   174.5        3.075           17.0             23.0     7/11/2011   \n",
      "144   76.4   192.5        5.115           25.4             15.0     9/25/2011   \n",
      "\n",
      "     Power_perf_factor  \n",
      "6           134.656858  \n",
      "9            83.998724  \n",
      "24          141.141150  \n",
      "39          188.144323  \n",
      "73          124.446716  \n",
      "93           98.249737  \n",
      "94          125.273876  \n",
      "95          139.982294  \n",
      "124          93.437331  \n",
      "125         134.390975  \n",
      "126         135.914710  \n",
      "144         102.528984  \n",
      "--------------------\n",
      "Column: Price_in_thousands\n",
      "IQR: 13.93\n",
      "Identified outliers:\n",
      "    Manufacturer           Model  Sales_in_thousands  __year_resale_value  \\\n",
      "6           Audi              A8               1.380               39.000   \n",
      "39         Dodge           Viper               0.916               58.470   \n",
      "73         Lexus           LS400               6.375               40.375   \n",
      "74         Lexus           LX470               9.126                  NaN   \n",
      "94    Mercedes-B         S-Class              16.774               50.375   \n",
      "95    Mercedes-B        SL-Class               3.311               58.600   \n",
      "99    Mercedes-B           CL500               0.954                  NaN   \n",
      "125      Porsche   Carrera Coupe               1.280               60.625   \n",
      "126      Porsche  Carrera Cabrio               1.866               67.550   \n",
      "\n",
      "    Vehicle_type  Price_in_thousands  Engine_size  Horsepower  Wheelbase  \\\n",
      "6      Passenger              62.000          4.2       310.0      113.0   \n",
      "39     Passenger              69.725          8.0       450.0       96.2   \n",
      "73     Passenger              54.005          4.0       290.0      112.2   \n",
      "74           Car              60.105          4.7       230.0      112.2   \n",
      "94     Passenger              69.700          4.3       275.0      121.5   \n",
      "95     Passenger              82.600          5.0       302.0       99.0   \n",
      "99     Passenger              85.500          5.0       302.0      113.6   \n",
      "125    Passenger              71.020          3.4       300.0       92.6   \n",
      "126    Passenger              74.970          3.4       300.0       92.6   \n",
      "\n",
      "     Width  Length  Curb_weight  Fuel_capacity  Fuel_efficiency Latest_Launch  \\\n",
      "6     74.0   198.2        3.902           23.7             21.0     2/27/2012   \n",
      "39    75.7   176.7        3.375           19.0             16.0      8/7/2011   \n",
      "73    72.0   196.7        3.890           22.5             22.0     3/29/2012   \n",
      "74    76.4   192.5        5.401           25.4             15.0    10/30/2012   \n",
      "94    73.1   203.1        4.133           23.2             21.0     6/13/2011   \n",
      "95    71.3   177.1        4.125           21.1             20.0     3/17/2011   \n",
      "99    73.1   196.6        4.115           23.2             20.0     4/11/2011   \n",
      "125   69.5   174.5        3.032           17.0             21.0    12/21/2012   \n",
      "126   69.5   174.5        3.075           17.0             23.0     7/11/2011   \n",
      "\n",
      "     Power_perf_factor  \n",
      "6           134.656858  \n",
      "39          188.144323  \n",
      "73          124.446716  \n",
      "74          105.760458  \n",
      "94          125.273876  \n",
      "95          139.982294  \n",
      "99          141.100985  \n",
      "125         134.390975  \n",
      "126         135.914710  \n",
      "--------------------\n",
      "Column: Engine_size\n",
      "IQR: 1.28\n",
      "Identified outliers:\n",
      "   Manufacturer     Model  Sales_in_thousands  __year_resale_value  \\\n",
      "18     Cadillac  Escalade              14.785                  NaN   \n",
      "24    Chevrolet  Corvette              17.947               36.225   \n",
      "39        Dodge     Viper               0.916               58.470   \n",
      "\n",
      "   Vehicle_type  Price_in_thousands  Engine_size  Horsepower  Wheelbase  \\\n",
      "18          Car              46.225          5.7       255.0      117.5   \n",
      "24    Passenger              45.705          5.7       345.0      104.5   \n",
      "39    Passenger              69.725          8.0       450.0       96.2   \n",
      "\n",
      "    Width  Length  Curb_weight  Fuel_capacity  Fuel_efficiency Latest_Launch  \\\n",
      "18   77.0   201.2        5.572           30.0             15.0     4/17/2012   \n",
      "24   73.6   179.7        3.210           19.1             22.0     5/12/2012   \n",
      "39   75.7   176.7        3.375           19.0             16.0      8/7/2011   \n",
      "\n",
      "    Power_perf_factor  \n",
      "18         109.509117  \n",
      "24         141.141150  \n",
      "39         188.144323  \n",
      "--------------------\n",
      "Column: Horsepower\n",
      "IQR: 65.50\n",
      "Identified outliers:\n",
      "   Manufacturer     Model  Sales_in_thousands  __year_resale_value  \\\n",
      "24    Chevrolet  Corvette              17.947               36.225   \n",
      "39        Dodge     Viper               0.916               58.470   \n",
      "\n",
      "   Vehicle_type  Price_in_thousands  Engine_size  Horsepower  Wheelbase  \\\n",
      "24    Passenger              45.705          5.7       345.0      104.5   \n",
      "39    Passenger              69.725          8.0       450.0       96.2   \n",
      "\n",
      "    Width  Length  Curb_weight  Fuel_capacity  Fuel_efficiency Latest_Launch  \\\n",
      "24   73.6   179.7        3.210           19.1             22.0     5/12/2012   \n",
      "39   75.7   176.7        3.375           19.0             16.0      8/7/2011   \n",
      "\n",
      "    Power_perf_factor  \n",
      "24         141.141150  \n",
      "39         188.144323  \n",
      "--------------------\n"
     ]
    }
   ],
   "source": [
    "# Assuming 'df' is your DataFrame containing the relevant columns\n",
    "numerical_columns = ['Sales_in_thousands', '__year_resale_value', 'Price_in_thousands', 'Engine_size', 'Horsepower']\n",
    "\n",
    "for column in numerical_columns:\n",
    "    Q1 = df[column].quantile(0.25)\n",
    "    Q3 = df[column].quantile(0.75)\n",
    "    IQR = Q3 - Q1\n",
    "    lower_bound = Q1 - 1.5 * IQR\n",
    "    upper_bound = Q3 + 1.5 * IQR\n",
    "\n",
    "    outliers = df[(df[column] < lower_bound) | (df[column] > upper_bound)]\n",
    "    \n",
    "    print(f\"Column: {column}\")\n",
    "    print(f\"IQR: {IQR:.2f}\")\n",
    "    print(f\"Identified outliers:\")\n",
    "    print(outliers)\n",
    "    print(\"--------------------\")\n"
   ]
  },
  {
   "cell_type": "code",
   "execution_count": 36,
   "id": "ed2db46f",
   "metadata": {},
   "outputs": [
    {
     "data": {
      "image/png": "[encoded data removed]",
      "text/plain": [
       "<Figure size 800x500 with 1 Axes>"
      ]
     },
     "metadata": {},
     "output_type": "display_data"
    },
    {
     "name": "stdout",
     "output_type": "stream",
     "text": [
      "Skewness of 'Sales_in_thousands': 3.38\n"
     ]
    },
    {
     "data": {
      "image/png": "[encoded data removed]",
      "text/plain": [
       "<Figure size 800x500 with 1 Axes>"
      ]
     },
     "metadata": {},
     "output_type": "display_data"
    },
    {
     "name": "stdout",
     "output_type": "stream",
     "text": [
      "Skewness of '__year_resale_value': nan\n"
     ]
    },
    {
     "data": {
      "image/png": "[encoded data removed]",
      "text/plain": [
       "<Figure size 800x500 with 1 Axes>"
      ]
     },
     "metadata": {},
     "output_type": "display_data"
    },
    {
     "name": "stdout",
     "output_type": "stream",
     "text": [
      "Skewness of 'Price_in_thousands': nan\n"
     ]
    },
    {
     "data": {
      "image/png": "[encoded data removed]",
      "text/plain": [
       "<Figure size 800x500 with 1 Axes>"
      ]
     },
     "metadata": {},
     "output_type": "display_data"
    },
    {
     "name": "stdout",
     "output_type": "stream",
     "text": [
      "Skewness of 'Engine_size': nan\n"
     ]
    },
    {
     "data": {
      "image/png": "[encoded data removed]",
      "text/plain": [
       "<Figure size 800x500 with 1 Axes>"
      ]
     },
     "metadata": {},
     "output_type": "display_data"
    },
    {
     "name": "stdout",
     "output_type": "stream",
     "text": [
      "Skewness of 'Horsepower': nan\n"
     ]
    }
   ],
   "source": [
    "import pandas as pd\n",
    "import matplotlib.pyplot as plt\n",
    "from scipy.stats import skew\n",
    "\n",
    "# Assuming 'df' is your DataFrame containing numerical columns\n",
    "numerical_columns = ['Sales_in_thousands', '__year_resale_value', 'Price_in_thousands', 'Engine_size', 'Horsepower']\n",
    "\n",
    "for column in numerical_columns:\n",
    "    # Plotting histograms for numerical columns\n",
    "    plt.figure(figsize=(8, 5))\n",
    "    plt.hist(df[column], bins='auto', color='blue')\n",
    "    plt.xlabel(column)\n",
    "    plt.ylabel('Frequency')\n",
    "    plt.title(f'Histogram of {column}')\n",
    "    plt.show()\n",
    "    \n",
    "    # Calculating skewness for each column\n",
    "    column_skewness = skew(df[column])\n",
    "    print(f\"Skewness of '{column}': {column_skewness:.2f}\")\n"
   ]
  },
  {
   "cell_type": "code",
   "execution_count": null,
   "id": "c1ef6260",
   "metadata": {},
   "outputs": [],
   "source": []
  },
  {
   "cell_type": "code",
   "execution_count": null,
   "id": "e0a8189f",
   "metadata": {},
   "outputs": [],
   "source": []
  }
 ],
 "metadata": {
  "kernelspec": {
   "display_name": "Python 3 (ipykernel)",
   "language": "python",
   "name": "python3"
  },
  "language_info": {
   "codemirror_mode": {
    "name": "ipython",
    "version": 3
   },
   "file_extension": ".py",
   "mimetype": "text/x-python",
   "name": "python",
   "nbconvert_exporter": "python",
   "pygments_lexer": "ipython3",
   "version": "3.11.5"
  }
 },
 "nbformat": 4,
 "nbformat_minor": 5
}
